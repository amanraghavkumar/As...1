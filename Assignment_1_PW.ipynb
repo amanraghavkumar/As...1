{
 "cells": [
  {
   "cell_type": "markdown",
   "id": "83a75e9e",
   "metadata": {},
   "source": [
    "Q1.  Explain with an example each when to use a for loop and a while loop."
   ]
  },
  {
   "cell_type": "markdown",
   "id": "b053bf12",
   "metadata": {},
   "source": [
    "When to use for loop\n",
    "\n",
    "* When you are iterating over a sequence (like a list, tuple, string, etc.).\n",
    "* When you want to execute a block of code a specific number of times."
   ]
  },
  {
   "cell_type": "code",
   "execution_count": null,
   "id": "8b80bac0",
   "metadata": {},
   "outputs": [],
   "source": [
    "n=[1,2,3,4,5,6]\n",
    "sum=0\n",
    "for i in n:\n",
    "    sum+=i\n",
    "    print(sum)"
   ]
  },
  {
   "cell_type": "markdown",
   "id": "168fb4ea",
   "metadata": {},
   "source": [
    "When to use while loop\n",
    "\n",
    "* When you want to repeatedly execute a block of code as long as a certain condition is true.\n",
    "\n",
    "Note: Be cautious with while loops to avoid infinite loops. Ensure that the loop condition is updated within the loop so that it eventually becomes false."
   ]
  },
  {
   "cell_type": "code",
   "execution_count": null,
   "id": "d15abab2",
   "metadata": {},
   "outputs": [],
   "source": [
    "number = 5\n",
    "factorial = 1\n",
    "counter = 1\n",
    "while counter <= number:\n",
    "    factorial *= counter\n",
    "    counter += 1\n",
    "print( number, ':', factorial)\n"
   ]
  },
  {
   "cell_type": "markdown",
   "id": "05dfd736",
   "metadata": {},
   "source": [
    "Q2.  Write a python program to print the sum and product of the first 10 natural numbers using for \n",
    "and while loop."
   ]
  },
  {
   "cell_type": "code",
   "execution_count": null,
   "id": "1bd6aee0",
   "metadata": {},
   "outputs": [],
   "source": [
    "# Sum and product using for loop\n",
    "sum = 0\n",
    "product = 1\n",
    "for i in range(1,11):\n",
    "    sum += i\n",
    "    product *= i\n",
    "print(\"Sum :\", sum)\n",
    "print(\"Product :\", product)"
   ]
  },
  {
   "cell_type": "code",
   "execution_count": null,
   "id": "3be42619",
   "metadata": {},
   "outputs": [],
   "source": [
    "# Sum and product using while loop\n",
    "sum= 0\n",
    "product = 1\n",
    "counter = 1\n",
    "while counter <= 10:\n",
    "    sum += counter\n",
    "    product *= counter\n",
    "    counter += 1\n",
    "print(\"Sum :\", sum)\n",
    "print(\"Product :\", product)"
   ]
  },
  {
   "cell_type": "markdown",
   "id": "91eb7286",
   "metadata": {},
   "source": [
    "Q3. Create a python program to compute the electricity bill for a household."
   ]
  },
  {
   "cell_type": "code",
   "execution_count": null,
   "id": "ab0ffc44",
   "metadata": {},
   "outputs": [],
   "source": [
    "def calculate_electricity_bill(units):\n",
    "    rate1 = 4.5\n",
    "    rate2 = 6\n",
    "    rate3 = 10\n",
    "    rate4 = 20\n",
    "    total_bill = 0\n",
    "\n",
    "# Calculate bill for the first 100 units\n",
    "    for _ in range(min(units, 100)):\n",
    "        total_bill += rate1\n",
    "        units -= 1\n",
    "\n",
    "# Calculate bill for the next 100 units\n",
    "    for _ in range(min(units, 100)):\n",
    "        total_bill += rate2\n",
    "        units -= 1\n",
    "\n",
    "# Calculate bill for the next 100 units\n",
    "    for _ in range(min(units, 100)):\n",
    "        total_bill += rate3\n",
    "        units -= 1\n",
    "\n",
    "# Calculate bill for units above 300\n",
    "    if units > 0:\n",
    "        total_bill += units * rate4\n",
    "\n",
    "    return total_bill\n",
    "\n",
    "consumed_units = int(input(\"Enter the units of electricity consumed in a month: \"))\n",
    "electricity_bill = calculate_electricity_bill(consumed_units)\n",
    "print(\"Electricity Bill: Rs.\", electricity_bill)"
   ]
  },
  {
   "cell_type": "markdown",
   "id": "f1ce9868",
   "metadata": {},
   "source": [
    "Q4. Create a list of numbers from 1 to 100. Use for loop and while loop to calculate the cube of each \n",
    "number and if the cube of that number is divisible by 4 or 5 then append that number in a list and print \n",
    "that list."
   ]
  },
  {
   "cell_type": "code",
   "execution_count": null,
   "id": "ce61fada",
   "metadata": {},
   "outputs": [],
   "source": [
    "cube_list = []\n",
    "for num in range(1, 101):\n",
    "    cube = num ** 3\n",
    "    if cube % 4 == 0 or cube % 5 == 0:\n",
    "        cube_list.append(num)\n",
    "print(\"Cube list :\", cube_list)"
   ]
  },
  {
   "cell_type": "markdown",
   "id": "81aa99ca",
   "metadata": {},
   "source": [
    "Q5.  Write a program to filter count vowels in the below-given string.\n",
    "string = \"I want to become a data scientist\""
   ]
  },
  {
   "cell_type": "code",
   "execution_count": null,
   "id": "56b163ad",
   "metadata": {},
   "outputs": [],
   "source": [
    "string = \"I want to become a data scientist\n",
    "string =string.lower()\n",
    "vowels = \"aeiou\"\n",
    "vowel_count = 0\n",
    "\n",
    "for i in string:\n",
    "    if i in vowels:\n",
    "        vowel_count +=1\n",
    "print(\"Number of vowels in the string:\", vowel_count)\n"
   ]
  }
 ],
 "metadata": {
  "kernelspec": {
   "display_name": "Python 3 (ipykernel)",
   "language": "python",
   "name": "python3"
  },
  "language_info": {
   "codemirror_mode": {
    "name": "ipython",
    "version": 3
   },
   "file_extension": ".py",
   "mimetype": "text/x-python",
   "name": "python",
   "nbconvert_exporter": "python",
   "pygments_lexer": "ipython3",
   "version": "3.10.9"
  }
 },
 "nbformat": 4,
 "nbformat_minor": 5
}
